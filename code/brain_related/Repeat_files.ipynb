{
 "cells": [
  {
   "cell_type": "markdown",
   "id": "5d4e9df8",
   "metadata": {},
   "source": [
    "## CREATING REPEAT FILES"
   ]
  },
  {
   "cell_type": "code",
   "execution_count": 227,
   "id": "1e84110a",
   "metadata": {},
   "outputs": [],
   "source": [
    "beta1_inv = np.load('BOLD5000_GLMsingle_ROI_betas/py/CSI1_GLMbetas-TYPED-FITHRF-GLMDENOISE-RR_allses_LHEarlyVis.npy')"
   ]
  },
  {
   "cell_type": "code",
   "execution_count": 228,
   "id": "db427fbd",
   "metadata": {},
   "outputs": [],
   "source": [
    "beta1 = np.transpose(beta1_inv)"
   ]
  },
  {
   "cell_type": "code",
   "execution_count": 229,
   "id": "4ef72d3b",
   "metadata": {},
   "outputs": [],
   "source": [
    "# opening the file in read mode\n",
    "my_file1 = open(\"BOLD5000_GLMsingle_ROI_betas/py/CSI1_imgnames.txt\", \"r\")\n",
    "\n",
    "# reading the file\n",
    "data1 = my_file1.read()\n",
    "\n",
    "# replacing end splitting the text\n",
    "# when newline ('\\n') is seen.\n",
    "data_into_list1 = data1.split(\"\\n\")"
   ]
  },
  {
   "cell_type": "code",
   "execution_count": 230,
   "id": "7a5ca085",
   "metadata": {},
   "outputs": [
    {
     "data": {
      "text/plain": [
       "5255"
      ]
     },
     "execution_count": 230,
     "metadata": {},
     "output_type": "execute_result"
    }
   ],
   "source": [
    "len(data_into_list1)"
   ]
  },
  {
   "cell_type": "code",
   "execution_count": 231,
   "id": "f701e912",
   "metadata": {},
   "outputs": [
    {
     "data": {
      "text/plain": [
       "''"
      ]
     },
     "execution_count": 231,
     "metadata": {},
     "output_type": "execute_result"
    }
   ],
   "source": [
    "data_into_list1[-1]"
   ]
  },
  {
   "cell_type": "code",
   "execution_count": 232,
   "id": "4001b893",
   "metadata": {},
   "outputs": [
    {
     "data": {
      "text/plain": [
       "''"
      ]
     },
     "execution_count": 232,
     "metadata": {},
     "output_type": "execute_result"
    }
   ],
   "source": [
    "data_into_list1.pop(-1)"
   ]
  },
  {
   "cell_type": "code",
   "execution_count": 233,
   "id": "dc9df18f",
   "metadata": {},
   "outputs": [
    {
     "data": {
      "text/plain": [
       "5254"
      ]
     },
     "execution_count": 233,
     "metadata": {},
     "output_type": "execute_result"
    }
   ],
   "source": [
    "len(data_into_list1)"
   ]
  },
  {
   "cell_type": "code",
   "execution_count": 234,
   "id": "becf5e13",
   "metadata": {},
   "outputs": [],
   "source": [
    "df1 = pd.DataFrame(beta1, columns = data_into_list1)"
   ]
  },
  {
   "cell_type": "code",
   "execution_count": 235,
   "id": "70e028ec",
   "metadata": {},
   "outputs": [],
   "source": [
    "# used_img = ling.iloc[:,0] --> THIS IS USED ABOVE SO NO NEED TO RELOAD"
   ]
  },
  {
   "cell_type": "code",
   "execution_count": 236,
   "id": "ae5d1491",
   "metadata": {},
   "outputs": [],
   "source": [
    "df1_used_demo = df1[used_img]"
   ]
  },
  {
   "cell_type": "code",
   "execution_count": 237,
   "id": "36d81001",
   "metadata": {},
   "outputs": [],
   "source": [
    "df1_used_demo_imgs = df1_used_demo.columns"
   ]
  },
  {
   "cell_type": "code",
   "execution_count": 238,
   "id": "50794b38",
   "metadata": {},
   "outputs": [
    {
     "data": {
      "text/plain": [
       "[('banquetHall2.jpg', 4),\n",
       " ('boardwalk4.jpg', 4),\n",
       " ('campsite3.jpg', 4),\n",
       " ('desertvegetation3.jpg', 4),\n",
       " ('dining_car.jpg', 4),\n",
       " ('driveway6.jpg', 4),\n",
       " ('driveway8.jpg', 4),\n",
       " ('elevatorOutside4.jpg', 4),\n",
       " ('hardwarestore1.jpg', 4),\n",
       " ('library_aisle10.jpg', 4),\n",
       " ('parkinggarage3.jpg', 4),\n",
       " ('playground10.jpg', 4),\n",
       " ('sidewalk1.jpg', 4),\n",
       " ('ATM1.jpg', 1),\n",
       " ('ATM4.jpg', 1),\n",
       " ('HorseRaceTrack.jpg', 1),\n",
       " ('RVinside2.jpg', 1),\n",
       " ('ShowJumping7.jpg', 1),\n",
       " ('airplanecabin1.jpg', 1),\n",
       " ('airplanecabin3.jpg', 1)]"
      ]
     },
     "execution_count": 238,
     "metadata": {},
     "output_type": "execute_result"
    }
   ],
   "source": [
    "counter_img1 = collections.Counter(df1_used_demo_imgs)\n",
    "counter_img1.most_common(20)"
   ]
  },
  {
   "cell_type": "markdown",
   "id": "d9dd01f4",
   "metadata": {},
   "source": [
    "CSI3"
   ]
  },
  {
   "cell_type": "code",
   "execution_count": 239,
   "id": "3ae1ae3a",
   "metadata": {},
   "outputs": [],
   "source": [
    "beta3_inv = np.load('BOLD5000_GLMsingle_ROI_betas/py/CSI3_GLMbetas-TYPED-FITHRF-GLMDENOISE-RR_allses_LHEarlyVis.npy')"
   ]
  },
  {
   "cell_type": "code",
   "execution_count": 240,
   "id": "0eec5770",
   "metadata": {},
   "outputs": [],
   "source": [
    "beta3 = np.transpose(beta3_inv)"
   ]
  },
  {
   "cell_type": "code",
   "execution_count": 241,
   "id": "838f5e51",
   "metadata": {},
   "outputs": [],
   "source": [
    "# opening the file in read mode\n",
    "my_file3 = open(\"BOLD5000_GLMsingle_ROI_betas/py/CSI3_imgnames.txt\", \"r\")\n",
    "\n",
    "# reading the file\n",
    "data3 = my_file3.read()\n",
    "\n",
    "# replacing end splitting the text\n",
    "# when newline ('\\n') is seen.\n",
    "data_into_list3 = data3.split(\"\\n\")"
   ]
  },
  {
   "cell_type": "code",
   "execution_count": 242,
   "id": "33b8e58f",
   "metadata": {},
   "outputs": [
    {
     "data": {
      "text/plain": [
       "5255"
      ]
     },
     "execution_count": 242,
     "metadata": {},
     "output_type": "execute_result"
    }
   ],
   "source": [
    "len(data_into_list3)"
   ]
  },
  {
   "cell_type": "code",
   "execution_count": 243,
   "id": "1f14f1a2",
   "metadata": {},
   "outputs": [
    {
     "data": {
      "text/plain": [
       "''"
      ]
     },
     "execution_count": 243,
     "metadata": {},
     "output_type": "execute_result"
    }
   ],
   "source": [
    "data_into_list3[-1]"
   ]
  },
  {
   "cell_type": "code",
   "execution_count": 244,
   "id": "5d5991ca",
   "metadata": {},
   "outputs": [
    {
     "data": {
      "text/plain": [
       "''"
      ]
     },
     "execution_count": 244,
     "metadata": {},
     "output_type": "execute_result"
    }
   ],
   "source": [
    "data_into_list3.pop(-1)"
   ]
  },
  {
   "cell_type": "code",
   "execution_count": 245,
   "id": "9ceaebd5",
   "metadata": {},
   "outputs": [
    {
     "data": {
      "text/plain": [
       "5254"
      ]
     },
     "execution_count": 245,
     "metadata": {},
     "output_type": "execute_result"
    }
   ],
   "source": [
    "len(data_into_list3)"
   ]
  },
  {
   "cell_type": "code",
   "execution_count": 246,
   "id": "8f69c218",
   "metadata": {},
   "outputs": [],
   "source": [
    "df3 = pd.DataFrame(beta3, columns = data_into_list3)"
   ]
  },
  {
   "cell_type": "code",
   "execution_count": 247,
   "id": "148b1f15",
   "metadata": {},
   "outputs": [],
   "source": [
    "# used_img = ling.iloc[:,0] --> THIS IS USED ABOVE SO NO NEED TO RELOAD"
   ]
  },
  {
   "cell_type": "code",
   "execution_count": 248,
   "id": "84076ddd",
   "metadata": {},
   "outputs": [],
   "source": [
    "df3_used_demo = df3[used_img]"
   ]
  },
  {
   "cell_type": "code",
   "execution_count": 249,
   "id": "2c12a660",
   "metadata": {},
   "outputs": [],
   "source": [
    "df3_used_demo_imgs = df3_used_demo.columns"
   ]
  },
  {
   "cell_type": "code",
   "execution_count": 250,
   "id": "014c281f",
   "metadata": {},
   "outputs": [
    {
     "data": {
      "text/plain": [
       "[('banquetHall2.jpg', 4),\n",
       " ('boardwalk4.jpg', 4),\n",
       " ('campsite3.jpg', 4),\n",
       " ('desertvegetation3.jpg', 4),\n",
       " ('dining_car.jpg', 4),\n",
       " ('driveway6.jpg', 4),\n",
       " ('driveway8.jpg', 4),\n",
       " ('elevatorOutside4.jpg', 4),\n",
       " ('hardwarestore1.jpg', 4),\n",
       " ('library_aisle10.jpg', 4),\n",
       " ('parkinggarage3.jpg', 4),\n",
       " ('playground10.jpg', 4),\n",
       " ('sidewalk1.jpg', 4),\n",
       " ('ATM1.jpg', 1),\n",
       " ('ATM4.jpg', 1),\n",
       " ('HorseRaceTrack.jpg', 1),\n",
       " ('RVinside2.jpg', 1),\n",
       " ('ShowJumping7.jpg', 1),\n",
       " ('airplanecabin1.jpg', 1),\n",
       " ('airplanecabin3.jpg', 1)]"
      ]
     },
     "execution_count": 250,
     "metadata": {},
     "output_type": "execute_result"
    }
   ],
   "source": [
    "counter_img3 = collections.Counter(df3_used_demo_imgs)\n",
    "counter_img3.most_common(20)"
   ]
  },
  {
   "cell_type": "markdown",
   "id": "dde3f45d",
   "metadata": {},
   "source": [
    "CSI4"
   ]
  },
  {
   "cell_type": "code",
   "execution_count": 251,
   "id": "560f3cdf",
   "metadata": {},
   "outputs": [],
   "source": [
    "beta4_inv = np.load('BOLD5000_GLMsingle_ROI_betas/py/CSI4_GLMbetas-TYPED-FITHRF-GLMDENOISE-RR_allses_LHEarlyVis.npy')"
   ]
  },
  {
   "cell_type": "code",
   "execution_count": 252,
   "id": "b6daaedf",
   "metadata": {},
   "outputs": [],
   "source": [
    "beta4 = np.transpose(beta4_inv)"
   ]
  },
  {
   "cell_type": "code",
   "execution_count": 253,
   "id": "e0158495",
   "metadata": {},
   "outputs": [],
   "source": [
    "# opening the file in read mode\n",
    "my_file4 = open(\"BOLD5000_GLMsingle_ROI_betas/py/CSI4_imgnames.txt\", \"r\")\n",
    "\n",
    "# reading the file\n",
    "data4 = my_file4.read()\n",
    "\n",
    "# replacing end splitting the text\n",
    "# when newline ('\\n') is seen.\n",
    "data_into_list4 = data4.split(\"\\n\")"
   ]
  },
  {
   "cell_type": "code",
   "execution_count": 254,
   "id": "0728dc73",
   "metadata": {},
   "outputs": [
    {
     "data": {
      "text/plain": [
       "3109"
      ]
     },
     "execution_count": 254,
     "metadata": {},
     "output_type": "execute_result"
    }
   ],
   "source": [
    "len(data_into_list4)"
   ]
  },
  {
   "cell_type": "code",
   "execution_count": 255,
   "id": "1a0bb85c",
   "metadata": {},
   "outputs": [
    {
     "data": {
      "text/plain": [
       "''"
      ]
     },
     "execution_count": 255,
     "metadata": {},
     "output_type": "execute_result"
    }
   ],
   "source": [
    "data_into_list4[-1]"
   ]
  },
  {
   "cell_type": "code",
   "execution_count": 256,
   "id": "2b1f33b3",
   "metadata": {},
   "outputs": [
    {
     "data": {
      "text/plain": [
       "''"
      ]
     },
     "execution_count": 256,
     "metadata": {},
     "output_type": "execute_result"
    }
   ],
   "source": [
    "data_into_list4.pop(-1)"
   ]
  },
  {
   "cell_type": "code",
   "execution_count": 257,
   "id": "b28a1126",
   "metadata": {},
   "outputs": [
    {
     "data": {
      "text/plain": [
       "3108"
      ]
     },
     "execution_count": 257,
     "metadata": {},
     "output_type": "execute_result"
    }
   ],
   "source": [
    "len(data_into_list4)"
   ]
  },
  {
   "cell_type": "code",
   "execution_count": 258,
   "id": "385ae65c",
   "metadata": {},
   "outputs": [],
   "source": [
    "df4 = pd.DataFrame(beta4, columns = data_into_list4)"
   ]
  },
  {
   "cell_type": "code",
   "execution_count": 259,
   "id": "8088f34a",
   "metadata": {},
   "outputs": [],
   "source": [
    "# used_img = ling.iloc[:,0] --> THIS IS USED ABOVE SO NO NEED TO RELOAD"
   ]
  },
  {
   "cell_type": "code",
   "execution_count": 260,
   "id": "99d01e98",
   "metadata": {},
   "outputs": [
    {
     "ename": "KeyError",
     "evalue": "\"['airplanecabin1.jpg', 'airportTerminal2.jpg', 'airportTerminal3.jpg', 'airportTerminal4.jpg', 'alley1.jpg', 'alley4.jpg', 'amusement3.jpg', 'apartmentBuilding1.jpg', 'apartmentBuilding2.jpg', 'applestore1.jpg', 'applestore4.jpg', 'aquarium1.jpg', 'arcade1.jpg', 'arcade2.jpg', 'auto_showroom1.jpg', 'auto_showroom4.jpg', 'auto_showroom5.jpg', 'backstage2.jpg', 'backyard1.jpg', 'backyard2.jpg', 'backyard5.jpg', 'backyard6.jpg', 'baggageClaim1.jpg', 'balconyIN.jpg', 'balconyIN2.jpg', 'ballroom1.jpg', 'bambooforest3.jpg', 'bambooforest5.jpg', 'banquetHall6.jpg', 'bar8.jpg', 'barbershop3.jpg', 'basement6.jpg', 'basketballcourt.jpg', 'basketballcourt3.jpg', 'baywindow5.jpg', 'beach1.jpeg', 'bedroom6.jpg', 'bikerack1.jpg', 'bleachers6.jpg', 'bleachers7.jpg', 'boardwalk6.jpg', 'bowlingalley3.jpg', 'bowlingalley5.jpg', 'brewery2.jpg', 'bridalboutique3.jpg', 'cabin4.jpg', 'cabinIndoors.jpg', 'cabinIndoors5.jpg', 'cafeteria6.jpg', 'campsite6.jpg', 'campsite7.jpg', 'campusquad2.jpg', 'cargo5.jpg', 'carmechanic4.jpeg', 'casino3.jpg', 'cemetery.jpg', 'cemetery3.jpg', 'cemetery5.jpg', 'checkoutcounter2.jpg', 'checkoutcounter9.jpg', 'church4.jpg', 'church6.jpg', 'clothingstore3.jpg', 'copyroom2.jpg', 'cornfield2.jpg', 'courthouse1.jpg', 'courtroom2.jpg', 'courtroom3.jpg', 'dancestudio6.jpg', 'deck2.jpg', 'deck5.jpg', 'dentist4.jpg', 'desertvegetation2.jpg', 'diner10.jpg', 'diner11.jpg', 'diner12.jpg', 'diner14.jpg', 'dining_car2.jpg', 'dining_car3.jpg', 'dining_car6.jpg', 'diningroom1.jpg', 'diningroom5.jpg', 'dock1.jpg', 'dock2.jpg', 'dock3.jpg', 'dock4.jpg', 'drymountains.jpg', 'drymountains3.jpg', 'drymountains6.jpg', 'dugout2.jpg', 'elevatorOutside2.jpg', 'exerciseequipment5.jpg', 'fabricstore2.jpg', 'farm3.jpg', 'farm4.jpg', 'farmersmarket4.jpg', 'fittingroom2.jpg', 'fittingroom5.jpg', 'flowershop.jpg', 'forestpath2.jpg', 'fountain.jpg', 'fountain4.jpg', 'fountain7.jpg', 'frontDoor.jpg', 'frontFoyer4.jpg', 'frontFoyer6.jpg', 'frontLawn2.jpg', 'frontLawn4.jpg', 'gasstation2.jpg', 'gasstation6.jpg', 'gasstation7.jpg', 'gazebo3.jpg', 'golfcourse6.jpg', 'golfcourse7.jpg', 'hayfield7.jpg', 'highway4.jpg', 'homegarage4.jpg', 'homegarden7.jpg', 'hotelRoom3.jpg', 'hotellobby2.jpg', 'hut1.jpg', 'hut2.jpg', 'hut3.jpg', 'hut5.jpg', 'igloo.jpg', 'kindergarten_classroom.jpg', 'kindergarten_classroom5.jpg', 'kindergarten_classroom6.jpg', 'kindergarten_classroom7.jpg', 'lab3.jpg', 'lab4.jpg', 'lab5.jpg', 'labClass7.jpg', 'laundromat4.jpg', 'library_aisle3.jpg', 'library_aisle8.jpg', 'library_aisle9.jpg', 'lightingstore2.jpg', 'liquorstore.jpg', 'liquorstore7.jpg', 'liquorstore8.jpg', 'livingroom.jpg', 'lockerroom4.jpg', 'lookout4.jpg', 'metroInside2.jpg', 'minigolf8.jpg', 'museum5.jpg', 'musicStore1.jpg', 'newsstand2.jpg', 'observatory1.jpg', 'operatingroom4.jpg', 'pantry5.jpg', 'parkinggarage2.jpg', 'parkinglot.jpg', 'parkinglot3.jpg', 'pasture.jpg', 'pasture9.jpg', 'pavilion.jpg', 'pharmacy4.jpg', 'playground9.jpg', 'playroom6.jpg', 'poolhall1.jpg', 'porch.jpg', 'promenadeDeck2.jpg', 'rainforest5.jpg', 'readingroom1.jpg', 'readingroom2.jpg', 'recordingstudio4.jpg', 'restaurant13.jpg', 'restaurant14.jpg', 'restaurant8.jpg', 'restaurantkitchen2.jpg', 'ruralroad2.jpg', 'sandDunes_desert_outdoor.jpg', 'sandDunes_desert_outdoor8.jpg', 'sandDunes_desert_outdoor9.jpg', 'sandbox.jpg', 'savanna.jpg', 'sculpturegarden1.jpg', 'shoestore4.jpg', 'sidewalk1.jpg', 'sidewalk3.jpg', 'skatepark7.jpg', 'soccerfield.jpg', 'staircase6.jpg', 'staircase7.jpg', 'stripmall3.jpg', 'tenniscourt.jpg', 'tenniscourt3.jpg', 'ticket_counter6.jpg', 'track.jpg', 'trainStation5.jpg', 'tvstudio2.jpg', 'tvstudio3.jpg', 'waitingroom2.jpg', 'waitingroom3.jpg', 'waitingroom4.jpg', 'warehouse1.jpg', 'warehouse3.jpg', 'warehouseoutside2.jpg', 'warehouseoutside3.jpg', 'windmill1.jpg', 'windmill2.jpg', 'winebarrel2.jpg', 'winebarrel4.jpg', 'wrestlingring7.jpg', 'yogastudio1.jpg'] not in index\"",
     "output_type": "error",
     "traceback": [
      "\u001b[0;31m---------------------------------------------------------------------------\u001b[0m",
      "\u001b[0;31mKeyError\u001b[0m                                  Traceback (most recent call last)",
      "Input \u001b[0;32mIn [260]\u001b[0m, in \u001b[0;36m<cell line: 1>\u001b[0;34m()\u001b[0m\n\u001b[0;32m----> 1\u001b[0m df4_used_demo \u001b[38;5;241m=\u001b[39m \u001b[43mdf4\u001b[49m\u001b[43m[\u001b[49m\u001b[43mused_img\u001b[49m\u001b[43m]\u001b[49m\n",
      "File \u001b[0;32m~/.local/lib/python3.8/site-packages/pandas/core/frame.py:3511\u001b[0m, in \u001b[0;36mDataFrame.__getitem__\u001b[0;34m(self, key)\u001b[0m\n\u001b[1;32m   3509\u001b[0m     \u001b[38;5;28;01mif\u001b[39;00m is_iterator(key):\n\u001b[1;32m   3510\u001b[0m         key \u001b[38;5;241m=\u001b[39m \u001b[38;5;28mlist\u001b[39m(key)\n\u001b[0;32m-> 3511\u001b[0m     indexer \u001b[38;5;241m=\u001b[39m \u001b[38;5;28;43mself\u001b[39;49m\u001b[38;5;241;43m.\u001b[39;49m\u001b[43mcolumns\u001b[49m\u001b[38;5;241;43m.\u001b[39;49m\u001b[43m_get_indexer_strict\u001b[49m\u001b[43m(\u001b[49m\u001b[43mkey\u001b[49m\u001b[43m,\u001b[49m\u001b[43m \u001b[49m\u001b[38;5;124;43m\"\u001b[39;49m\u001b[38;5;124;43mcolumns\u001b[39;49m\u001b[38;5;124;43m\"\u001b[39;49m\u001b[43m)\u001b[49m[\u001b[38;5;241m1\u001b[39m]\n\u001b[1;32m   3513\u001b[0m \u001b[38;5;66;03m# take() does not accept boolean indexers\u001b[39;00m\n\u001b[1;32m   3514\u001b[0m \u001b[38;5;28;01mif\u001b[39;00m \u001b[38;5;28mgetattr\u001b[39m(indexer, \u001b[38;5;124m\"\u001b[39m\u001b[38;5;124mdtype\u001b[39m\u001b[38;5;124m\"\u001b[39m, \u001b[38;5;28;01mNone\u001b[39;00m) \u001b[38;5;241m==\u001b[39m \u001b[38;5;28mbool\u001b[39m:\n",
      "File \u001b[0;32m~/.local/lib/python3.8/site-packages/pandas/core/indexes/base.py:5782\u001b[0m, in \u001b[0;36mIndex._get_indexer_strict\u001b[0;34m(self, key, axis_name)\u001b[0m\n\u001b[1;32m   5779\u001b[0m \u001b[38;5;28;01melse\u001b[39;00m:\n\u001b[1;32m   5780\u001b[0m     keyarr, indexer, new_indexer \u001b[38;5;241m=\u001b[39m \u001b[38;5;28mself\u001b[39m\u001b[38;5;241m.\u001b[39m_reindex_non_unique(keyarr)\n\u001b[0;32m-> 5782\u001b[0m \u001b[38;5;28;43mself\u001b[39;49m\u001b[38;5;241;43m.\u001b[39;49m\u001b[43m_raise_if_missing\u001b[49m\u001b[43m(\u001b[49m\u001b[43mkeyarr\u001b[49m\u001b[43m,\u001b[49m\u001b[43m \u001b[49m\u001b[43mindexer\u001b[49m\u001b[43m,\u001b[49m\u001b[43m \u001b[49m\u001b[43maxis_name\u001b[49m\u001b[43m)\u001b[49m\n\u001b[1;32m   5784\u001b[0m keyarr \u001b[38;5;241m=\u001b[39m \u001b[38;5;28mself\u001b[39m\u001b[38;5;241m.\u001b[39mtake(indexer)\n\u001b[1;32m   5785\u001b[0m \u001b[38;5;28;01mif\u001b[39;00m \u001b[38;5;28misinstance\u001b[39m(key, Index):\n\u001b[1;32m   5786\u001b[0m     \u001b[38;5;66;03m# GH 42790 - Preserve name from an Index\u001b[39;00m\n",
      "File \u001b[0;32m~/.local/lib/python3.8/site-packages/pandas/core/indexes/base.py:5845\u001b[0m, in \u001b[0;36mIndex._raise_if_missing\u001b[0;34m(self, key, indexer, axis_name)\u001b[0m\n\u001b[1;32m   5842\u001b[0m     \u001b[38;5;28;01mraise\u001b[39;00m \u001b[38;5;167;01mKeyError\u001b[39;00m(\u001b[38;5;124mf\u001b[39m\u001b[38;5;124m\"\u001b[39m\u001b[38;5;124mNone of [\u001b[39m\u001b[38;5;132;01m{\u001b[39;00mkey\u001b[38;5;132;01m}\u001b[39;00m\u001b[38;5;124m] are in the [\u001b[39m\u001b[38;5;132;01m{\u001b[39;00maxis_name\u001b[38;5;132;01m}\u001b[39;00m\u001b[38;5;124m]\u001b[39m\u001b[38;5;124m\"\u001b[39m)\n\u001b[1;32m   5844\u001b[0m not_found \u001b[38;5;241m=\u001b[39m \u001b[38;5;28mlist\u001b[39m(ensure_index(key)[missing_mask\u001b[38;5;241m.\u001b[39mnonzero()[\u001b[38;5;241m0\u001b[39m]]\u001b[38;5;241m.\u001b[39munique())\n\u001b[0;32m-> 5845\u001b[0m \u001b[38;5;28;01mraise\u001b[39;00m \u001b[38;5;167;01mKeyError\u001b[39;00m(\u001b[38;5;124mf\u001b[39m\u001b[38;5;124m\"\u001b[39m\u001b[38;5;132;01m{\u001b[39;00mnot_found\u001b[38;5;132;01m}\u001b[39;00m\u001b[38;5;124m not in index\u001b[39m\u001b[38;5;124m\"\u001b[39m)\n",
      "\u001b[0;31mKeyError\u001b[0m: \"['airplanecabin1.jpg', 'airportTerminal2.jpg', 'airportTerminal3.jpg', 'airportTerminal4.jpg', 'alley1.jpg', 'alley4.jpg', 'amusement3.jpg', 'apartmentBuilding1.jpg', 'apartmentBuilding2.jpg', 'applestore1.jpg', 'applestore4.jpg', 'aquarium1.jpg', 'arcade1.jpg', 'arcade2.jpg', 'auto_showroom1.jpg', 'auto_showroom4.jpg', 'auto_showroom5.jpg', 'backstage2.jpg', 'backyard1.jpg', 'backyard2.jpg', 'backyard5.jpg', 'backyard6.jpg', 'baggageClaim1.jpg', 'balconyIN.jpg', 'balconyIN2.jpg', 'ballroom1.jpg', 'bambooforest3.jpg', 'bambooforest5.jpg', 'banquetHall6.jpg', 'bar8.jpg', 'barbershop3.jpg', 'basement6.jpg', 'basketballcourt.jpg', 'basketballcourt3.jpg', 'baywindow5.jpg', 'beach1.jpeg', 'bedroom6.jpg', 'bikerack1.jpg', 'bleachers6.jpg', 'bleachers7.jpg', 'boardwalk6.jpg', 'bowlingalley3.jpg', 'bowlingalley5.jpg', 'brewery2.jpg', 'bridalboutique3.jpg', 'cabin4.jpg', 'cabinIndoors.jpg', 'cabinIndoors5.jpg', 'cafeteria6.jpg', 'campsite6.jpg', 'campsite7.jpg', 'campusquad2.jpg', 'cargo5.jpg', 'carmechanic4.jpeg', 'casino3.jpg', 'cemetery.jpg', 'cemetery3.jpg', 'cemetery5.jpg', 'checkoutcounter2.jpg', 'checkoutcounter9.jpg', 'church4.jpg', 'church6.jpg', 'clothingstore3.jpg', 'copyroom2.jpg', 'cornfield2.jpg', 'courthouse1.jpg', 'courtroom2.jpg', 'courtroom3.jpg', 'dancestudio6.jpg', 'deck2.jpg', 'deck5.jpg', 'dentist4.jpg', 'desertvegetation2.jpg', 'diner10.jpg', 'diner11.jpg', 'diner12.jpg', 'diner14.jpg', 'dining_car2.jpg', 'dining_car3.jpg', 'dining_car6.jpg', 'diningroom1.jpg', 'diningroom5.jpg', 'dock1.jpg', 'dock2.jpg', 'dock3.jpg', 'dock4.jpg', 'drymountains.jpg', 'drymountains3.jpg', 'drymountains6.jpg', 'dugout2.jpg', 'elevatorOutside2.jpg', 'exerciseequipment5.jpg', 'fabricstore2.jpg', 'farm3.jpg', 'farm4.jpg', 'farmersmarket4.jpg', 'fittingroom2.jpg', 'fittingroom5.jpg', 'flowershop.jpg', 'forestpath2.jpg', 'fountain.jpg', 'fountain4.jpg', 'fountain7.jpg', 'frontDoor.jpg', 'frontFoyer4.jpg', 'frontFoyer6.jpg', 'frontLawn2.jpg', 'frontLawn4.jpg', 'gasstation2.jpg', 'gasstation6.jpg', 'gasstation7.jpg', 'gazebo3.jpg', 'golfcourse6.jpg', 'golfcourse7.jpg', 'hayfield7.jpg', 'highway4.jpg', 'homegarage4.jpg', 'homegarden7.jpg', 'hotelRoom3.jpg', 'hotellobby2.jpg', 'hut1.jpg', 'hut2.jpg', 'hut3.jpg', 'hut5.jpg', 'igloo.jpg', 'kindergarten_classroom.jpg', 'kindergarten_classroom5.jpg', 'kindergarten_classroom6.jpg', 'kindergarten_classroom7.jpg', 'lab3.jpg', 'lab4.jpg', 'lab5.jpg', 'labClass7.jpg', 'laundromat4.jpg', 'library_aisle3.jpg', 'library_aisle8.jpg', 'library_aisle9.jpg', 'lightingstore2.jpg', 'liquorstore.jpg', 'liquorstore7.jpg', 'liquorstore8.jpg', 'livingroom.jpg', 'lockerroom4.jpg', 'lookout4.jpg', 'metroInside2.jpg', 'minigolf8.jpg', 'museum5.jpg', 'musicStore1.jpg', 'newsstand2.jpg', 'observatory1.jpg', 'operatingroom4.jpg', 'pantry5.jpg', 'parkinggarage2.jpg', 'parkinglot.jpg', 'parkinglot3.jpg', 'pasture.jpg', 'pasture9.jpg', 'pavilion.jpg', 'pharmacy4.jpg', 'playground9.jpg', 'playroom6.jpg', 'poolhall1.jpg', 'porch.jpg', 'promenadeDeck2.jpg', 'rainforest5.jpg', 'readingroom1.jpg', 'readingroom2.jpg', 'recordingstudio4.jpg', 'restaurant13.jpg', 'restaurant14.jpg', 'restaurant8.jpg', 'restaurantkitchen2.jpg', 'ruralroad2.jpg', 'sandDunes_desert_outdoor.jpg', 'sandDunes_desert_outdoor8.jpg', 'sandDunes_desert_outdoor9.jpg', 'sandbox.jpg', 'savanna.jpg', 'sculpturegarden1.jpg', 'shoestore4.jpg', 'sidewalk1.jpg', 'sidewalk3.jpg', 'skatepark7.jpg', 'soccerfield.jpg', 'staircase6.jpg', 'staircase7.jpg', 'stripmall3.jpg', 'tenniscourt.jpg', 'tenniscourt3.jpg', 'ticket_counter6.jpg', 'track.jpg', 'trainStation5.jpg', 'tvstudio2.jpg', 'tvstudio3.jpg', 'waitingroom2.jpg', 'waitingroom3.jpg', 'waitingroom4.jpg', 'warehouse1.jpg', 'warehouse3.jpg', 'warehouseoutside2.jpg', 'warehouseoutside3.jpg', 'windmill1.jpg', 'windmill2.jpg', 'winebarrel2.jpg', 'winebarrel4.jpg', 'wrestlingring7.jpg', 'yogastudio1.jpg'] not in index\""
     ]
    }
   ],
   "source": [
    "df4_used_demo = df4[used_img]"
   ]
  },
  {
   "cell_type": "code",
   "execution_count": null,
   "id": "7a9c6fc6",
   "metadata": {},
   "outputs": [],
   "source": [
    "df4_used_demo_imgs = df4_used_demo.columns"
   ]
  },
  {
   "cell_type": "code",
   "execution_count": null,
   "id": "c6e16324",
   "metadata": {},
   "outputs": [],
   "source": [
    "counter_img4 = collections.Counter(df4_used_demo_imgs)\n",
    "counter_img4.most_common(20)"
   ]
  },
  {
   "cell_type": "code",
   "execution_count": null,
   "id": "d593d35e",
   "metadata": {},
   "outputs": [],
   "source": []
  }
 ],
 "metadata": {
  "kernelspec": {
   "display_name": "Python 3 (ipykernel)",
   "language": "python",
   "name": "python3"
  },
  "language_info": {
   "codemirror_mode": {
    "name": "ipython",
    "version": 3
   },
   "file_extension": ".py",
   "mimetype": "text/x-python",
   "name": "python",
   "nbconvert_exporter": "python",
   "pygments_lexer": "ipython3",
   "version": "3.8.10"
  }
 },
 "nbformat": 4,
 "nbformat_minor": 5
}
